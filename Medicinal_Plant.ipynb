{
  "nbformat": 4,
  "nbformat_minor": 0,
  "metadata": {
    "colab": {
      "provenance": [],
      "gpuType": "T4"
    },
    "kernelspec": {
      "name": "python3",
      "display_name": "Python 3"
    },
    "language_info": {
      "name": "python"
    },
    "accelerator": "GPU"
  },
  "cells": [
    {
      "cell_type": "code",
      "execution_count": 1,
      "metadata": {
        "colab": {
          "base_uri": "https://localhost:8080/"
        },
        "id": "EyoeUU0AWTfl",
        "outputId": "6e2b3145-5382-4273-fcba-9482b11c1c27"
      },
      "outputs": [
        {
          "output_type": "stream",
          "name": "stdout",
          "text": [
            "Hello World\n"
          ]
        }
      ],
      "source": [
        "print(\"Hello World\")"
      ]
    },
    {
      "cell_type": "code",
      "source": [
        "from google.colab import drive\n",
        "import shutil\n",
        "import os\n",
        "shutil.rmtree('/content/drive', ignore_errors=True)\n",
        "drive.mount('/content/drive')"
      ],
      "metadata": {
        "colab": {
          "base_uri": "https://localhost:8080/"
        },
        "id": "NfOW8cCNWXZa",
        "outputId": "70173bae-c1b8-4721-95a8-a2125b7d0cff"
      },
      "execution_count": 2,
      "outputs": [
        {
          "output_type": "stream",
          "name": "stdout",
          "text": [
            "Mounted at /content/drive\n"
          ]
        }
      ]
    },
    {
      "cell_type": "code",
      "source": [
        "import kagglehub\n",
        "path = kagglehub.dataset_download(\"aryashah2k/indian-medicinal-leaves-dataset\")\n",
        "print(\"Path to dataset files:\", path)"
      ],
      "metadata": {
        "colab": {
          "base_uri": "https://localhost:8080/"
        },
        "id": "IyGQe0M_WbYX",
        "outputId": "8bfa8beb-a742-4510-9a68-efa33db2a1ee"
      },
      "execution_count": 3,
      "outputs": [
        {
          "output_type": "stream",
          "name": "stdout",
          "text": [
            "Warning: Looks like you're using an outdated `kagglehub` version (installed: 0.3.11), please consider upgrading to the latest version (0.3.12).\n",
            "Downloading from https://www.kaggle.com/api/v1/datasets/download/aryashah2k/indian-medicinal-leaves-dataset?dataset_version_number=1...\n"
          ]
        },
        {
          "output_type": "stream",
          "name": "stderr",
          "text": [
            "100%|██████████| 9.00G/9.00G [01:23<00:00, 116MB/s]"
          ]
        },
        {
          "output_type": "stream",
          "name": "stdout",
          "text": [
            "Extracting files...\n"
          ]
        },
        {
          "output_type": "stream",
          "name": "stderr",
          "text": [
            "\n"
          ]
        },
        {
          "output_type": "stream",
          "name": "stdout",
          "text": [
            "Path to dataset files: /root/.cache/kagglehub/datasets/aryashah2k/indian-medicinal-leaves-dataset/versions/1\n"
          ]
        }
      ]
    },
    {
      "cell_type": "code",
      "source": [
        "import tensorflow as tf\n",
        "import os\n",
        "from tensorflow import keras\n",
        "from tensorflow.keras import layers\n",
        "import matplotlib.pyplot as plt\n",
        "import numpy as np\n",
        "import shutil"
      ],
      "metadata": {
        "id": "kL-BaxocWgb6"
      },
      "execution_count": 4,
      "outputs": []
    },
    {
      "cell_type": "code",
      "source": [
        "source_path = '/root/.cache/kagglehub/datasets/aryashah2k/indian-medicinal-leaves-dataset/versions/1'\n",
        "\n",
        "# Destination path (e.g., your Google Drive)\n",
        "destination_path = '/content/drive/MyDrive/medicinal_plant_datasets/my_dataset1'\n",
        "\n",
        "# Ensure the source path exists\n",
        "if not os.path.exists(source_path):\n",
        "    print(f\"Source path {source_path} does not exist.\")\n",
        "else:\n",
        "    # Remove the destination directory if it exists\n",
        "    if os.path.exists(destination_path):\n",
        "        shutil.rmtree(destination_path)  # Remove the destination directory\n",
        "\n",
        "    # Copy the dataset files\n",
        "    shutil.copytree(source_path, destination_path)\n",
        "    print(f\"Dataset copied from {source_path} to {destination_path}\")"
      ],
      "metadata": {
        "colab": {
          "base_uri": "https://localhost:8080/"
        },
        "id": "8CKCTfjdWpWR",
        "outputId": "2002ec66-97cf-4634-9f88-1e7d735b2e9c"
      },
      "execution_count": 5,
      "outputs": [
        {
          "output_type": "stream",
          "name": "stdout",
          "text": [
            "Dataset copied from /root/.cache/kagglehub/datasets/aryashah2k/indian-medicinal-leaves-dataset/versions/1 to /content/drive/MyDrive/medicinal_plant_datasets/my_dataset1\n"
          ]
        }
      ]
    },
    {
      "cell_type": "code",
      "source": [
        "import os\n",
        "import shutil\n",
        "\n",
        "# Path to the segmented images folder\n",
        "dataset_path = '/content/drive/MyDrive/medicinal_plant_datasets/my_dataset1/Indian Medicinal Leaves Image Datasets/Medicinal Leaf dataset'\n",
        "\n",
        "# List of folders to keep\n",
        "folders_to_keep = [\n",
        "    'Tulsi', 'Tamarind', 'Curry', 'Palak(Spinach)', 'Doddpathre',\n",
        "    'Mint', 'Papaya', 'Catharanthus', 'Neem', 'Castor'\n",
        "]\n",
        "\n",
        "# Loop through each class folder (plant species) in the segmented_images1 folder\n",
        "for class_name in os.listdir(dataset_path):\n",
        "    class_folder = os.path.join(dataset_path, class_name)\n",
        "\n",
        "    # If the folder is not in the 'folders_to_keep' list, delete it\n",
        "    if os.path.isdir(class_folder) and class_name not in folders_to_keep:\n",
        "        try:\n",
        "            shutil.rmtree(class_folder)  # Deletes the folder and its contents\n",
        "            print(f\"Deleted folder: {class_name}\")\n",
        "        except Exception as e:\n",
        "            print(f\"Error deleting folder {class_name}: {e}\")\n",
        "\n",
        "print(\"Cleanup process completed!\")\n"
      ],
      "metadata": {
        "colab": {
          "base_uri": "https://localhost:8080/"
        },
        "id": "viDRqtcCZ5Dg",
        "outputId": "fbb22822-d83a-4834-c06e-31c0f9322d91"
      },
      "execution_count": 11,
      "outputs": [
        {
          "output_type": "stream",
          "name": "stdout",
          "text": [
            "Deleted folder: Bamboo\n",
            "Deleted folder: Pumpkin\n",
            "Deleted folder: Ganike\n",
            "Deleted folder: Parijatha\n",
            "Deleted folder: Aloevera\n",
            "Deleted folder: Raddish\n",
            "Deleted folder: Sampige\n",
            "Deleted folder: ashoka\n",
            "Deleted folder: Nelavembu\n",
            "Deleted folder: Honge\n",
            "Deleted folder: Kasambruga\n",
            "Deleted folder: Globe Amarnath\n",
            "Deleted folder: Jackfruit\n",
            "Deleted folder: Tomato\n",
            "Deleted folder: Gasagase\n",
            "Deleted folder: Insulin\n",
            "Deleted folder: Balloon_Vine\n",
            "Deleted folder: Lemongrass\n",
            "Deleted folder: Ginger\n",
            "Deleted folder: Kohlrabi\n",
            "Deleted folder: Seethaashoka\n",
            "Deleted folder: Spinach1\n",
            "Deleted folder: Marigold\n",
            "Deleted folder: Pomoegranate\n",
            "Deleted folder: Jasmine\n",
            "Deleted folder: Caricature\n",
            "Deleted folder: Chilly\n",
            "Deleted folder: Drumstick\n",
            "Deleted folder: Eucalyptus\n",
            "Deleted folder: Badipala\n",
            "Deleted folder: Coffee\n",
            "Deleted folder: Coriender\n",
            "Deleted folder: Guava\n",
            "Deleted folder: Lemon\n",
            "Deleted folder: Chakte\n",
            "Deleted folder: camphor\n",
            "Deleted folder: Seethapala\n",
            "Deleted folder: Citron lime (herelikai)\n",
            "Deleted folder: Pepper\n",
            "Deleted folder: Kambajala\n",
            "Deleted folder: Arali\n",
            "Deleted folder: Pea\n",
            "Deleted folder: Nooni\n",
            "Deleted folder: Turmeric\n",
            "Deleted folder: Betel\n",
            "Deleted folder: Onion\n",
            "Deleted folder: Bringaraja\n",
            "Deleted folder: Thumbe\n",
            "Deleted folder: Common rue(naagdalli)\n",
            "Deleted folder: kamakasturi\n",
            "Deleted folder: Mango\n",
            "Deleted folder: Lantana\n",
            "Deleted folder: Ekka\n",
            "Deleted folder: Rose\n",
            "Deleted folder: Henna\n",
            "Deleted folder: Bhrami\n",
            "Deleted folder: Taro\n",
            "Deleted folder: Malabar_Nut\n",
            "Deleted folder: Ganigale\n",
            "Deleted folder: Amla\n",
            "Deleted folder: Beans\n",
            "Deleted folder: kepala\n",
            "Deleted folder: Amruthaballi\n",
            "Deleted folder: Padri\n",
            "Deleted folder: Nerale\n",
            "Deleted folder: Malabar_Spinach\n",
            "Deleted folder: Hibiscus\n",
            "Deleted folder: Tecoma\n",
            "Deleted folder: Astma_weed\n",
            "Deleted folder: Sapota\n",
            "Cleanup process completed!\n"
          ]
        }
      ]
    },
    {
      "cell_type": "code",
      "source": [
        "import cv2\n",
        "import numpy as np\n",
        "import os\n",
        "from matplotlib import pyplot as plt\n",
        "\n",
        "# Function to apply the segmentation process\n",
        "def segment_plant_leaf(image_path, save_path):\n",
        "    # Load the image\n",
        "    image = cv2.imread(image_path)\n",
        "\n",
        "    # Convert to HSV color space\n",
        "    hsv = cv2.cvtColor(image, cv2.COLOR_BGR2HSV)\n",
        "\n",
        "    # Define green color range (adjust if needed)\n",
        "    lower_green = np.array([25, 40, 40])\n",
        "    upper_green = np.array([85, 255, 255])\n",
        "\n",
        "    # Create a binary mask\n",
        "    mask = cv2.inRange(hsv, lower_green, upper_green)\n",
        "\n",
        "    # Apply mask to the image\n",
        "    result = cv2.bitwise_and(image, image, mask=mask)\n",
        "\n",
        "    # Convert black background to transparent\n",
        "    rgba = cv2.cvtColor(result, cv2.COLOR_BGR2BGRA)\n",
        "    rgba[:, :, 3] = mask  # Alpha channel comes from mask\n",
        "\n",
        "    # Save the output\n",
        "    cv2.imwrite(save_path, rgba)\n",
        "\n",
        "# Set the root directory for the medicinal leaf dataset\n",
        "dataset_root = '/content/drive/MyDrive/medicinal_plant_datasets/my_dataset1/Indian Medicinal Leaves Image Datasets/Medicinal Leaf dataset'\n",
        "output_root = '/content/drive/MyDrive/medicinal_plant_datasets/segmented_data1'\n",
        "\n",
        "# Create the main segmented images folder\n",
        "os.makedirs(output_root, exist_ok=True)\n",
        "\n",
        "# Loop through all the subdirectories (each plant category) inside the Medicinal Leaf dataset\n",
        "for folder_name in os.listdir(dataset_root):\n",
        "    folder_path = os.path.join(dataset_root, folder_name)\n",
        "\n",
        "    if os.path.isdir(folder_path):\n",
        "        # Create an output folder for each plant class inside 'segmented_images'\n",
        "        output_folder = os.path.join(output_root, folder_name)\n",
        "        os.makedirs(output_folder, exist_ok=True)\n",
        "\n",
        "        # Process each image in the folder\n",
        "        for image_name in os.listdir(folder_path):\n",
        "            image_path = os.path.join(folder_path, image_name)\n",
        "\n",
        "            if image_name.lower().endswith(('.jpg', '.jpeg', '.png')):\n",
        "                save_path = os.path.join(output_folder, image_name)\n",
        "                segment_plant_leaf(image_path, save_path)\n",
        "\n",
        "print(\"Segmentation process completed for all images!\")"
      ],
      "metadata": {
        "colab": {
          "base_uri": "https://localhost:8080/"
        },
        "id": "0EuEILpDXjgu",
        "outputId": "518fdb8e-9c8f-4b8e-ee15-6ab1076011fe"
      },
      "execution_count": 12,
      "outputs": [
        {
          "output_type": "stream",
          "name": "stdout",
          "text": [
            "Segmentation process completed for all images!\n"
          ]
        }
      ]
    },
    {
      "cell_type": "code",
      "source": [
        "segmented_dir = '/content/drive/MyDrive/medicinal_plant_datasets/segmented_data1'"
      ],
      "metadata": {
        "id": "5oQJPc_AYosa"
      },
      "execution_count": 13,
      "outputs": []
    },
    {
      "cell_type": "code",
      "source": [
        "import os\n",
        "\n",
        "# Path to the segmented images directory\n",
        "dataset_path = segmented_dir\n",
        "\n",
        "# Folders to keep\n",
        "folders_to_keep = ['Tulsi', 'Tamarind', 'Curry', 'Palak(Spinach)', 'Doddpathre',\n",
        "                   'Mint', 'Papaya', 'Catharanthus', 'Neem', 'Castor']\n",
        "\n",
        "# Dictionary to hold class names and their respective image counts\n",
        "image_counts = {}\n",
        "\n",
        "# Loop through each class folder (plant species)\n",
        "for class_name in os.listdir(dataset_path):\n",
        "    if class_name in folders_to_keep:  # Only process the folders in folders_to_keep\n",
        "        class_folder = os.path.join(dataset_path, class_name)\n",
        "\n",
        "        if os.path.isdir(class_folder):  # Ensure it's a directory\n",
        "            # Get all image files in the subfolder (can include .jpg, .jpeg, .png etc.)\n",
        "            image_files = [f for f in os.listdir(class_folder) if f.lower().endswith(('.jpg', '.jpeg', '.png'))]\n",
        "\n",
        "            # Count the number of images in this class\n",
        "            image_counts[class_name] = len(image_files)\n",
        "\n",
        "# Display the image counts for each of the selected folders\n",
        "print(\"Image count in the selected folders:\")\n",
        "for class_name, count in image_counts.items():\n",
        "    print(f\"{class_name}: {count} images\")\n"
      ],
      "metadata": {
        "colab": {
          "base_uri": "https://localhost:8080/"
        },
        "id": "tkh7MJEXbIPa",
        "outputId": "ec3b6f5a-5e49-476d-f503-3270d3b0ea0c"
      },
      "execution_count": 14,
      "outputs": [
        {
          "output_type": "stream",
          "name": "stdout",
          "text": [
            "Image count in the selected folders:\n",
            "Mint: 135 images\n",
            "Palak(Spinach): 149 images\n",
            "Curry: 168 images\n",
            "Tulsi: 177 images\n",
            "Castor: 129 images\n",
            "Neem: 132 images\n",
            "Tamarind: 176 images\n",
            "Catharanthus: 134 images\n",
            "Doddpathre: 142 images\n",
            "Papaya: 135 images\n"
          ]
        }
      ]
    },
    {
      "cell_type": "code",
      "source": [
        "import os\n",
        "import shutil\n",
        "import random\n",
        "\n",
        "# Path to the segmented images directory\n",
        "dataset_path = segmented_dir\n",
        "# Path to save the train and test split\n",
        "split_base_path = '/content/drive/MyDrive/medicinal_plant_datasets/segmented_data1'\n",
        "\n",
        "# Folders to keep\n",
        "folders_to_keep = ['Tulsi', 'Tamarind', 'Curry', 'Palak(Spinach)', 'Doddpathre',\n",
        "                   'Mint', 'Papaya', 'Catharanthus', 'Neem', 'Castor']\n",
        "\n",
        "# Percentage split for train and test\n",
        "train_percentage = 0.8\n",
        "test_percentage = 0.2\n",
        "\n",
        "# Ensure the split directories exist\n",
        "os.makedirs(os.path.join(split_base_path, 'train'), exist_ok=True)\n",
        "os.makedirs(os.path.join(split_base_path, 'test'), exist_ok=True)\n",
        "\n",
        "# Loop through each class folder (plant species)\n",
        "for class_name in os.listdir(dataset_path):\n",
        "    if class_name in folders_to_keep:  # Only process the folders in folders_to_keep\n",
        "        class_folder = os.path.join(dataset_path, class_name)\n",
        "\n",
        "        if os.path.isdir(class_folder):  # Ensure it's a directory\n",
        "            # Get all image files in the subfolder (can include .jpg, .jpeg, .png etc.)\n",
        "            image_files = [f for f in os.listdir(class_folder) if f.lower().endswith(('.jpg', '.jpeg', '.png'))]\n",
        "\n",
        "            # Shuffle the images to randomize the split\n",
        "            random.shuffle(image_files)\n",
        "\n",
        "            # Calculate the split index\n",
        "            split_index = int(len(image_files) * train_percentage)\n",
        "\n",
        "            # Split the images into train and test\n",
        "            train_images = image_files[:split_index]\n",
        "            test_images = image_files[split_index:]\n",
        "\n",
        "            # Create subdirectories for the class in train and test folders\n",
        "            os.makedirs(os.path.join(split_base_path, 'train', class_name), exist_ok=True)\n",
        "            os.makedirs(os.path.join(split_base_path, 'test', class_name), exist_ok=True)\n",
        "\n",
        "            # Move the images to the train directory\n",
        "            for img in train_images:\n",
        "                src_path = os.path.join(class_folder, img)\n",
        "                dst_path = os.path.join(split_base_path, 'train', class_name, img)\n",
        "                shutil.move(src_path, dst_path)\n",
        "\n",
        "            # Move the images to the test directory\n",
        "            for img in test_images:\n",
        "                src_path = os.path.join(class_folder, img)\n",
        "                dst_path = os.path.join(split_base_path, 'test', class_name, img)\n",
        "                shutil.move(src_path, dst_path)\n",
        "\n",
        "print(\"Data split into train and test successfully!\")\n"
      ],
      "metadata": {
        "colab": {
          "base_uri": "https://localhost:8080/"
        },
        "id": "izIqIwnmbNol",
        "outputId": "5ed4d8f4-4f64-4f86-8387-97b5d8119482"
      },
      "execution_count": 15,
      "outputs": [
        {
          "output_type": "stream",
          "name": "stdout",
          "text": [
            "Data split into train and test successfully!\n"
          ]
        }
      ]
    },
    {
      "cell_type": "code",
      "source": [
        "import os\n",
        "\n",
        "# Path to the split dataset\n",
        "split_base_path = '/content/drive/MyDrive/medicinal_plant_datasets/segmented_data1'\n",
        "\n",
        "# Folders to keep\n",
        "folders_to_keep = ['Tulsi', 'Tamarind', 'Curry', 'Palak(Spinach)', 'Doddpathre',\n",
        "                   'Mint', 'Papaya', 'Catharanthus', 'Neem', 'Castor']\n",
        "\n",
        "# Dictionary to store the counts\n",
        "image_counts = {'train': {}, 'test': {}}\n",
        "\n",
        "# Loop through each class folder (plant species) in both train and test\n",
        "for split in ['train', 'test']:\n",
        "    split_folder_path = os.path.join(split_base_path, split)\n",
        "\n",
        "    for class_name in folders_to_keep:\n",
        "        class_folder = os.path.join(split_folder_path, class_name)\n",
        "\n",
        "        if os.path.isdir(class_folder):  # Ensure it's a directory\n",
        "            # Get all image files in the subfolder (can include .jpg, .jpeg, .png etc.)\n",
        "            image_files = [f for f in os.listdir(class_folder) if f.lower().endswith(('.jpg', '.jpeg', '.png'))]\n",
        "\n",
        "            # Count the number of images\n",
        "            image_counts[split][class_name] = len(image_files)\n",
        "\n",
        "# Print the counts for train and test datasets\n",
        "for split in ['train', 'test']:\n",
        "    print(f\"\\n{split.capitalize()} dataset:\")\n",
        "    for class_name in image_counts[split]:\n",
        "        print(f\"  {class_name}: {image_counts[split][class_name]} images\")\n"
      ],
      "metadata": {
        "colab": {
          "base_uri": "https://localhost:8080/"
        },
        "id": "W-PBz5btcSk2",
        "outputId": "57643336-9581-44df-eb30-51aa58f79c84"
      },
      "execution_count": 16,
      "outputs": [
        {
          "output_type": "stream",
          "name": "stdout",
          "text": [
            "\n",
            "Train dataset:\n",
            "  Tulsi: 141 images\n",
            "  Tamarind: 140 images\n",
            "  Curry: 134 images\n",
            "  Palak(Spinach): 119 images\n",
            "  Doddpathre: 113 images\n",
            "  Mint: 108 images\n",
            "  Papaya: 108 images\n",
            "  Catharanthus: 107 images\n",
            "  Neem: 105 images\n",
            "  Castor: 103 images\n",
            "\n",
            "Test dataset:\n",
            "  Tulsi: 36 images\n",
            "  Tamarind: 36 images\n",
            "  Curry: 34 images\n",
            "  Palak(Spinach): 30 images\n",
            "  Doddpathre: 29 images\n",
            "  Mint: 27 images\n",
            "  Papaya: 27 images\n",
            "  Catharanthus: 27 images\n",
            "  Neem: 27 images\n",
            "  Castor: 26 images\n"
          ]
        }
      ]
    },
    {
      "cell_type": "code",
      "source": [
        "train_datagen = tf.keras.preprocessing.image.ImageDataGenerator(\n",
        "    rescale=1./255,\n",
        "    rotation_range=40,\n",
        "    width_shift_range=0.2,\n",
        "    height_shift_range=0.2,\n",
        "    shear_range=0.2,\n",
        "    zoom_range=0.2,\n",
        "    horizontal_flip=True,\n",
        "    fill_mode='nearest'\n",
        ")"
      ],
      "metadata": {
        "id": "94Mof-PLcgFj"
      },
      "execution_count": 17,
      "outputs": []
    },
    {
      "cell_type": "code",
      "source": [
        "train_datagen = tf.keras.preprocessing.image.ImageDataGenerator(\n",
        "    rescale=1./255,\n",
        "    rotation_range=40,\n",
        "    width_shift_range=0.2,\n",
        "    height_shift_range=0.2,\n",
        "    shear_range=0.2,\n",
        "    zoom_range=0.3,\n",
        "    brightness_range=[0.8, 1.2],\n",
        "    horizontal_flip=True,\n",
        "    fill_mode='nearest'\n",
        ")\n",
        "\n",
        "val_datagen = tf.keras.preprocessing.image.ImageDataGenerator(rescale=1./255)\n",
        "\n",
        "train_generator = train_datagen.flow_from_directory(\n",
        "    '/content/drive/MyDrive/medicinal_plant_datasets/segmented_data1/train',\n",
        "    target_size=(256, 256),\n",
        "    batch_size=32,\n",
        "    class_mode='categorical'\n",
        ")\n",
        "\n",
        "val_generator = val_datagen.flow_from_directory(\n",
        "    '/content/drive/MyDrive/medicinal_plant_datasets/segmented_data1/test',\n",
        "    target_size=(256, 256),\n",
        "    batch_size=32,\n",
        "    class_mode='categorical'\n",
        ")\n"
      ],
      "metadata": {
        "colab": {
          "base_uri": "https://localhost:8080/"
        },
        "id": "nKdCRLxOckDO",
        "outputId": "acb10bf9-6c47-42db-ca37-6c7a9d1b83d3"
      },
      "execution_count": 31,
      "outputs": [
        {
          "output_type": "stream",
          "name": "stdout",
          "text": [
            "Found 1178 images belonging to 10 classes.\n",
            "Found 299 images belonging to 10 classes.\n"
          ]
        }
      ]
    },
    {
      "cell_type": "code",
      "source": [
        "# train_dir = '/content/drive/MyDrive/medicinal_plant_datasets/segmented_data1/train'\n",
        "# batch_size = 21\n",
        "# img_height = 256\n",
        "# img_width = 256\n",
        "# train_ds = train_datagen.flow_from_directory(\n",
        "#     train_dir,\n",
        "#     target_size=(img_height, img_width),\n",
        "#     batch_size=batch_size,\n",
        "#     class_mode='categorical'\n",
        "# )"
      ],
      "metadata": {
        "colab": {
          "base_uri": "https://localhost:8080/"
        },
        "id": "1uM6bZI4cpRA",
        "outputId": "12f915a7-2970-4795-869b-05be19128bde"
      },
      "execution_count": 19,
      "outputs": [
        {
          "output_type": "stream",
          "name": "stdout",
          "text": [
            "Found 1178 images belonging to 10 classes.\n"
          ]
        }
      ]
    },
    {
      "cell_type": "code",
      "source": [
        "# test_dir = '/content/drive/MyDrive/medicinal_plant_datasets/segmented_data1/test'\n",
        "# test_datagen = tf.keras.preprocessing.image.ImageDataGenerator(rescale=1./255)\n",
        "# test_ds = test_datagen.flow_from_directory(\n",
        "#     test_dir,\n",
        "#     target_size=(img_height, img_width),\n",
        "#     batch_size=batch_size,\n",
        "#     class_mode='categorical'\n",
        "# )"
      ],
      "metadata": {
        "colab": {
          "base_uri": "https://localhost:8080/"
        },
        "id": "5ckKAB6DcwT-",
        "outputId": "2d6c1123-1c50-4747-cabf-8257cedbd68e"
      },
      "execution_count": 20,
      "outputs": [
        {
          "output_type": "stream",
          "name": "stdout",
          "text": [
            "Found 299 images belonging to 10 classes.\n"
          ]
        }
      ]
    },
    {
      "cell_type": "code",
      "source": [
        "print(train_generator.class_indices)"
      ],
      "metadata": {
        "colab": {
          "base_uri": "https://localhost:8080/"
        },
        "id": "iWhJ7vIrc1Ya",
        "outputId": "6a4c07a3-e1b5-4170-ce56-01001ad638dc"
      },
      "execution_count": 32,
      "outputs": [
        {
          "output_type": "stream",
          "name": "stdout",
          "text": [
            "{'Castor': 0, 'Catharanthus': 1, 'Curry': 2, 'Doddpathre': 3, 'Mint': 4, 'Neem': 5, 'Palak(Spinach)': 6, 'Papaya': 7, 'Tamarind': 8, 'Tulsi': 9}\n"
          ]
        }
      ]
    },
    {
      "cell_type": "code",
      "source": [
        "import tensorflow as tf\n",
        "from tensorflow.keras import layers, models, optimizers, callbacks\n",
        "from tensorflow.keras.applications import VGG16\n",
        "\n",
        "# Load the pre-trained VGG16 model\n",
        "base_model = VGG16(weights='imagenet', include_top=False, input_shape=(256, 256, 3))\n",
        "\n",
        "# Freeze most layers, but allow the last few to be fine-tuned\n",
        "for layer in base_model.layers[:-4]:  # Unfreeze last 4 layers\n",
        "    layer.trainable = False\n",
        "\n",
        "# Build the model\n",
        "model = models.Sequential([\n",
        "    base_model,\n",
        "    layers.GlobalAveragePooling2D(),\n",
        "    layers.Dense(512, activation='relu'),\n",
        "    layers.Dropout(0.5),\n",
        "    layers.Dense(256, activation='relu'),\n",
        "    layers.Dropout(0.3),\n",
        "    layers.Dense(10, activation='softmax')  # 10 classes\n",
        "])\n",
        "\n"
      ],
      "metadata": {
        "id": "HN-K1EKIc3es"
      },
      "execution_count": 33,
      "outputs": []
    },
    {
      "cell_type": "code",
      "source": [
        "model.compile(\n",
        "    optimizer=optimizers.Adam(learning_rate=1e-4),\n",
        "    loss='categorical_crossentropy',\n",
        "    metrics=['accuracy']\n",
        ")"
      ],
      "metadata": {
        "id": "OavvT-PQc547"
      },
      "execution_count": 34,
      "outputs": []
    },
    {
      "cell_type": "code",
      "source": [
        "model.summary()"
      ],
      "metadata": {
        "colab": {
          "base_uri": "https://localhost:8080/",
          "height": 369
        },
        "id": "QgGLkt8Uc8j2",
        "outputId": "f53b84a6-def2-43cc-8d0a-cf3e7b7904be"
      },
      "execution_count": 35,
      "outputs": [
        {
          "output_type": "display_data",
          "data": {
            "text/plain": [
              "\u001b[1mModel: \"sequential_1\"\u001b[0m\n"
            ],
            "text/html": [
              "<pre style=\"white-space:pre;overflow-x:auto;line-height:normal;font-family:Menlo,'DejaVu Sans Mono',consolas,'Courier New',monospace\"><span style=\"font-weight: bold\">Model: \"sequential_1\"</span>\n",
              "</pre>\n"
            ]
          },
          "metadata": {}
        },
        {
          "output_type": "display_data",
          "data": {
            "text/plain": [
              "┏━━━━━━━━━━━━━━━━━━━━━━━━━━━━━━━━━┳━━━━━━━━━━━━━━━━━━━━━━━━┳━━━━━━━━━━━━━━━┓\n",
              "┃\u001b[1m \u001b[0m\u001b[1mLayer (type)                   \u001b[0m\u001b[1m \u001b[0m┃\u001b[1m \u001b[0m\u001b[1mOutput Shape          \u001b[0m\u001b[1m \u001b[0m┃\u001b[1m \u001b[0m\u001b[1m      Param #\u001b[0m\u001b[1m \u001b[0m┃\n",
              "┡━━━━━━━━━━━━━━━━━━━━━━━━━━━━━━━━━╇━━━━━━━━━━━━━━━━━━━━━━━━╇━━━━━━━━━━━━━━━┩\n",
              "│ vgg16 (\u001b[38;5;33mFunctional\u001b[0m)              │ (\u001b[38;5;45mNone\u001b[0m, \u001b[38;5;34m8\u001b[0m, \u001b[38;5;34m8\u001b[0m, \u001b[38;5;34m512\u001b[0m)      │    \u001b[38;5;34m14,714,688\u001b[0m │\n",
              "├─────────────────────────────────┼────────────────────────┼───────────────┤\n",
              "│ global_average_pooling2d_1      │ (\u001b[38;5;45mNone\u001b[0m, \u001b[38;5;34m512\u001b[0m)            │             \u001b[38;5;34m0\u001b[0m │\n",
              "│ (\u001b[38;5;33mGlobalAveragePooling2D\u001b[0m)        │                        │               │\n",
              "├─────────────────────────────────┼────────────────────────┼───────────────┤\n",
              "│ dense_2 (\u001b[38;5;33mDense\u001b[0m)                 │ (\u001b[38;5;45mNone\u001b[0m, \u001b[38;5;34m512\u001b[0m)            │       \u001b[38;5;34m262,656\u001b[0m │\n",
              "├─────────────────────────────────┼────────────────────────┼───────────────┤\n",
              "│ dropout_1 (\u001b[38;5;33mDropout\u001b[0m)             │ (\u001b[38;5;45mNone\u001b[0m, \u001b[38;5;34m512\u001b[0m)            │             \u001b[38;5;34m0\u001b[0m │\n",
              "├─────────────────────────────────┼────────────────────────┼───────────────┤\n",
              "│ dense_3 (\u001b[38;5;33mDense\u001b[0m)                 │ (\u001b[38;5;45mNone\u001b[0m, \u001b[38;5;34m256\u001b[0m)            │       \u001b[38;5;34m131,328\u001b[0m │\n",
              "├─────────────────────────────────┼────────────────────────┼───────────────┤\n",
              "│ dropout_2 (\u001b[38;5;33mDropout\u001b[0m)             │ (\u001b[38;5;45mNone\u001b[0m, \u001b[38;5;34m256\u001b[0m)            │             \u001b[38;5;34m0\u001b[0m │\n",
              "├─────────────────────────────────┼────────────────────────┼───────────────┤\n",
              "│ dense_4 (\u001b[38;5;33mDense\u001b[0m)                 │ (\u001b[38;5;45mNone\u001b[0m, \u001b[38;5;34m10\u001b[0m)             │         \u001b[38;5;34m2,570\u001b[0m │\n",
              "└─────────────────────────────────┴────────────────────────┴───────────────┘\n"
            ],
            "text/html": [
              "<pre style=\"white-space:pre;overflow-x:auto;line-height:normal;font-family:Menlo,'DejaVu Sans Mono',consolas,'Courier New',monospace\">┏━━━━━━━━━━━━━━━━━━━━━━━━━━━━━━━━━┳━━━━━━━━━━━━━━━━━━━━━━━━┳━━━━━━━━━━━━━━━┓\n",
              "┃<span style=\"font-weight: bold\"> Layer (type)                    </span>┃<span style=\"font-weight: bold\"> Output Shape           </span>┃<span style=\"font-weight: bold\">       Param # </span>┃\n",
              "┡━━━━━━━━━━━━━━━━━━━━━━━━━━━━━━━━━╇━━━━━━━━━━━━━━━━━━━━━━━━╇━━━━━━━━━━━━━━━┩\n",
              "│ vgg16 (<span style=\"color: #0087ff; text-decoration-color: #0087ff\">Functional</span>)              │ (<span style=\"color: #00d7ff; text-decoration-color: #00d7ff\">None</span>, <span style=\"color: #00af00; text-decoration-color: #00af00\">8</span>, <span style=\"color: #00af00; text-decoration-color: #00af00\">8</span>, <span style=\"color: #00af00; text-decoration-color: #00af00\">512</span>)      │    <span style=\"color: #00af00; text-decoration-color: #00af00\">14,714,688</span> │\n",
              "├─────────────────────────────────┼────────────────────────┼───────────────┤\n",
              "│ global_average_pooling2d_1      │ (<span style=\"color: #00d7ff; text-decoration-color: #00d7ff\">None</span>, <span style=\"color: #00af00; text-decoration-color: #00af00\">512</span>)            │             <span style=\"color: #00af00; text-decoration-color: #00af00\">0</span> │\n",
              "│ (<span style=\"color: #0087ff; text-decoration-color: #0087ff\">GlobalAveragePooling2D</span>)        │                        │               │\n",
              "├─────────────────────────────────┼────────────────────────┼───────────────┤\n",
              "│ dense_2 (<span style=\"color: #0087ff; text-decoration-color: #0087ff\">Dense</span>)                 │ (<span style=\"color: #00d7ff; text-decoration-color: #00d7ff\">None</span>, <span style=\"color: #00af00; text-decoration-color: #00af00\">512</span>)            │       <span style=\"color: #00af00; text-decoration-color: #00af00\">262,656</span> │\n",
              "├─────────────────────────────────┼────────────────────────┼───────────────┤\n",
              "│ dropout_1 (<span style=\"color: #0087ff; text-decoration-color: #0087ff\">Dropout</span>)             │ (<span style=\"color: #00d7ff; text-decoration-color: #00d7ff\">None</span>, <span style=\"color: #00af00; text-decoration-color: #00af00\">512</span>)            │             <span style=\"color: #00af00; text-decoration-color: #00af00\">0</span> │\n",
              "├─────────────────────────────────┼────────────────────────┼───────────────┤\n",
              "│ dense_3 (<span style=\"color: #0087ff; text-decoration-color: #0087ff\">Dense</span>)                 │ (<span style=\"color: #00d7ff; text-decoration-color: #00d7ff\">None</span>, <span style=\"color: #00af00; text-decoration-color: #00af00\">256</span>)            │       <span style=\"color: #00af00; text-decoration-color: #00af00\">131,328</span> │\n",
              "├─────────────────────────────────┼────────────────────────┼───────────────┤\n",
              "│ dropout_2 (<span style=\"color: #0087ff; text-decoration-color: #0087ff\">Dropout</span>)             │ (<span style=\"color: #00d7ff; text-decoration-color: #00d7ff\">None</span>, <span style=\"color: #00af00; text-decoration-color: #00af00\">256</span>)            │             <span style=\"color: #00af00; text-decoration-color: #00af00\">0</span> │\n",
              "├─────────────────────────────────┼────────────────────────┼───────────────┤\n",
              "│ dense_4 (<span style=\"color: #0087ff; text-decoration-color: #0087ff\">Dense</span>)                 │ (<span style=\"color: #00d7ff; text-decoration-color: #00d7ff\">None</span>, <span style=\"color: #00af00; text-decoration-color: #00af00\">10</span>)             │         <span style=\"color: #00af00; text-decoration-color: #00af00\">2,570</span> │\n",
              "└─────────────────────────────────┴────────────────────────┴───────────────┘\n",
              "</pre>\n"
            ]
          },
          "metadata": {}
        },
        {
          "output_type": "display_data",
          "data": {
            "text/plain": [
              "\u001b[1m Total params: \u001b[0m\u001b[38;5;34m15,111,242\u001b[0m (57.64 MB)\n"
            ],
            "text/html": [
              "<pre style=\"white-space:pre;overflow-x:auto;line-height:normal;font-family:Menlo,'DejaVu Sans Mono',consolas,'Courier New',monospace\"><span style=\"font-weight: bold\"> Total params: </span><span style=\"color: #00af00; text-decoration-color: #00af00\">15,111,242</span> (57.64 MB)\n",
              "</pre>\n"
            ]
          },
          "metadata": {}
        },
        {
          "output_type": "display_data",
          "data": {
            "text/plain": [
              "\u001b[1m Trainable params: \u001b[0m\u001b[38;5;34m7,475,978\u001b[0m (28.52 MB)\n"
            ],
            "text/html": [
              "<pre style=\"white-space:pre;overflow-x:auto;line-height:normal;font-family:Menlo,'DejaVu Sans Mono',consolas,'Courier New',monospace\"><span style=\"font-weight: bold\"> Trainable params: </span><span style=\"color: #00af00; text-decoration-color: #00af00\">7,475,978</span> (28.52 MB)\n",
              "</pre>\n"
            ]
          },
          "metadata": {}
        },
        {
          "output_type": "display_data",
          "data": {
            "text/plain": [
              "\u001b[1m Non-trainable params: \u001b[0m\u001b[38;5;34m7,635,264\u001b[0m (29.13 MB)\n"
            ],
            "text/html": [
              "<pre style=\"white-space:pre;overflow-x:auto;line-height:normal;font-family:Menlo,'DejaVu Sans Mono',consolas,'Courier New',monospace\"><span style=\"font-weight: bold\"> Non-trainable params: </span><span style=\"color: #00af00; text-decoration-color: #00af00\">7,635,264</span> (29.13 MB)\n",
              "</pre>\n"
            ]
          },
          "metadata": {}
        }
      ]
    },
    {
      "cell_type": "code",
      "source": [
        "early_stop = callbacks.EarlyStopping(\n",
        "    monitor='val_loss',\n",
        "    patience=5,\n",
        "    restore_best_weights=True\n",
        ")\n",
        "\n",
        "reduce_lr = callbacks.ReduceLROnPlateau(\n",
        "    monitor='val_loss',\n",
        "    factor=0.5,\n",
        "    patience=3,\n",
        "    verbose=1\n",
        ")\n"
      ],
      "metadata": {
        "id": "uZsT7tkfc-Kq"
      },
      "execution_count": 36,
      "outputs": []
    },
    {
      "cell_type": "code",
      "source": [
        "history = model.fit(\n",
        "    train_generator,\n",
        "    epochs=50,\n",
        "    validation_data=val_generator,\n",
        "    callbacks=[early_stop, reduce_lr]\n",
        ")\n"
      ],
      "metadata": {
        "colab": {
          "base_uri": "https://localhost:8080/"
        },
        "id": "TQRfC66pdNJJ",
        "outputId": "993797b9-678d-463b-afd4-b5bc96eeffd0"
      },
      "execution_count": 37,
      "outputs": [
        {
          "output_type": "stream",
          "name": "stderr",
          "text": [
            "/usr/local/lib/python3.11/dist-packages/keras/src/trainers/data_adapters/py_dataset_adapter.py:121: UserWarning: Your `PyDataset` class should call `super().__init__(**kwargs)` in its constructor. `**kwargs` can include `workers`, `use_multiprocessing`, `max_queue_size`. Do not pass these arguments to `fit()`, as they will be ignored.\n",
            "  self._warn_if_super_not_called()\n"
          ]
        },
        {
          "output_type": "stream",
          "name": "stdout",
          "text": [
            "Epoch 1/50\n",
            "\u001b[1m37/37\u001b[0m \u001b[32m━━━━━━━━━━━━━━━━━━━━\u001b[0m\u001b[37m\u001b[0m \u001b[1m110s\u001b[0m 2s/step - accuracy: 0.1208 - loss: 2.4205 - val_accuracy: 0.4147 - val_loss: 1.8489 - learning_rate: 1.0000e-04\n",
            "Epoch 2/50\n",
            "\u001b[1m37/37\u001b[0m \u001b[32m━━━━━━━━━━━━━━━━━━━━\u001b[0m\u001b[37m\u001b[0m \u001b[1m61s\u001b[0m 2s/step - accuracy: 0.3526 - loss: 1.8470 - val_accuracy: 0.5819 - val_loss: 1.2719 - learning_rate: 1.0000e-04\n",
            "Epoch 3/50\n",
            "\u001b[1m37/37\u001b[0m \u001b[32m━━━━━━━━━━━━━━━━━━━━\u001b[0m\u001b[37m\u001b[0m \u001b[1m57s\u001b[0m 2s/step - accuracy: 0.5573 - loss: 1.3177 - val_accuracy: 0.7023 - val_loss: 0.8505 - learning_rate: 1.0000e-04\n",
            "Epoch 4/50\n",
            "\u001b[1m37/37\u001b[0m \u001b[32m━━━━━━━━━━━━━━━━━━━━\u001b[0m\u001b[37m\u001b[0m \u001b[1m56s\u001b[0m 2s/step - accuracy: 0.6376 - loss: 1.0884 - val_accuracy: 0.8094 - val_loss: 0.6136 - learning_rate: 1.0000e-04\n",
            "Epoch 5/50\n",
            "\u001b[1m37/37\u001b[0m \u001b[32m━━━━━━━━━━━━━━━━━━━━\u001b[0m\u001b[37m\u001b[0m \u001b[1m57s\u001b[0m 2s/step - accuracy: 0.7126 - loss: 0.8806 - val_accuracy: 0.8227 - val_loss: 0.5585 - learning_rate: 1.0000e-04\n",
            "Epoch 6/50\n",
            "\u001b[1m37/37\u001b[0m \u001b[32m━━━━━━━━━━━━━━━━━━━━\u001b[0m\u001b[37m\u001b[0m \u001b[1m83s\u001b[0m 2s/step - accuracy: 0.7426 - loss: 0.7440 - val_accuracy: 0.8528 - val_loss: 0.5159 - learning_rate: 1.0000e-04\n",
            "Epoch 7/50\n",
            "\u001b[1m37/37\u001b[0m \u001b[32m━━━━━━━━━━━━━━━━━━━━\u001b[0m\u001b[37m\u001b[0m \u001b[1m59s\u001b[0m 2s/step - accuracy: 0.7854 - loss: 0.6051 - val_accuracy: 0.8462 - val_loss: 0.4720 - learning_rate: 1.0000e-04\n",
            "Epoch 8/50\n",
            "\u001b[1m37/37\u001b[0m \u001b[32m━━━━━━━━━━━━━━━━━━━━\u001b[0m\u001b[37m\u001b[0m \u001b[1m60s\u001b[0m 2s/step - accuracy: 0.8031 - loss: 0.5861 - val_accuracy: 0.8763 - val_loss: 0.3624 - learning_rate: 1.0000e-04\n",
            "Epoch 9/50\n",
            "\u001b[1m37/37\u001b[0m \u001b[32m━━━━━━━━━━━━━━━━━━━━\u001b[0m\u001b[37m\u001b[0m \u001b[1m56s\u001b[0m 2s/step - accuracy: 0.8234 - loss: 0.5105 - val_accuracy: 0.8796 - val_loss: 0.4072 - learning_rate: 1.0000e-04\n",
            "Epoch 10/50\n",
            "\u001b[1m37/37\u001b[0m \u001b[32m━━━━━━━━━━━━━━━━━━━━\u001b[0m\u001b[37m\u001b[0m \u001b[1m58s\u001b[0m 2s/step - accuracy: 0.8561 - loss: 0.4323 - val_accuracy: 0.8930 - val_loss: 0.3029 - learning_rate: 1.0000e-04\n",
            "Epoch 11/50\n",
            "\u001b[1m37/37\u001b[0m \u001b[32m━━━━━━━━━━━━━━━━━━━━\u001b[0m\u001b[37m\u001b[0m \u001b[1m59s\u001b[0m 2s/step - accuracy: 0.8773 - loss: 0.3969 - val_accuracy: 0.8763 - val_loss: 0.3858 - learning_rate: 1.0000e-04\n",
            "Epoch 12/50\n",
            "\u001b[1m37/37\u001b[0m \u001b[32m━━━━━━━━━━━━━━━━━━━━\u001b[0m\u001b[37m\u001b[0m \u001b[1m58s\u001b[0m 2s/step - accuracy: 0.8900 - loss: 0.3533 - val_accuracy: 0.9130 - val_loss: 0.2914 - learning_rate: 1.0000e-04\n",
            "Epoch 13/50\n",
            "\u001b[1m37/37\u001b[0m \u001b[32m━━━━━━━━━━━━━━━━━━━━\u001b[0m\u001b[37m\u001b[0m \u001b[1m60s\u001b[0m 2s/step - accuracy: 0.8983 - loss: 0.3106 - val_accuracy: 0.8997 - val_loss: 0.3557 - learning_rate: 1.0000e-04\n",
            "Epoch 14/50\n",
            "\u001b[1m37/37\u001b[0m \u001b[32m━━━━━━━━━━━━━━━━━━━━\u001b[0m\u001b[37m\u001b[0m \u001b[1m58s\u001b[0m 2s/step - accuracy: 0.8976 - loss: 0.3024 - val_accuracy: 0.8930 - val_loss: 0.2895 - learning_rate: 1.0000e-04\n",
            "Epoch 15/50\n",
            "\u001b[1m37/37\u001b[0m \u001b[32m━━━━━━━━━━━━━━━━━━━━\u001b[0m\u001b[37m\u001b[0m \u001b[1m57s\u001b[0m 2s/step - accuracy: 0.8989 - loss: 0.3195 - val_accuracy: 0.9197 - val_loss: 0.2998 - learning_rate: 1.0000e-04\n",
            "Epoch 16/50\n",
            "\u001b[1m37/37\u001b[0m \u001b[32m━━━━━━━━━━━━━━━━━━━━\u001b[0m\u001b[37m\u001b[0m \u001b[1m59s\u001b[0m 2s/step - accuracy: 0.8950 - loss: 0.2743 - val_accuracy: 0.9097 - val_loss: 0.3243 - learning_rate: 1.0000e-04\n",
            "Epoch 17/50\n",
            "\u001b[1m37/37\u001b[0m \u001b[32m━━━━━━━━━━━━━━━━━━━━\u001b[0m\u001b[37m\u001b[0m \u001b[1m0s\u001b[0m 1s/step - accuracy: 0.8952 - loss: 0.3092\n",
            "Epoch 17: ReduceLROnPlateau reducing learning rate to 4.999999873689376e-05.\n",
            "\u001b[1m37/37\u001b[0m \u001b[32m━━━━━━━━━━━━━━━━━━━━\u001b[0m\u001b[37m\u001b[0m \u001b[1m60s\u001b[0m 2s/step - accuracy: 0.8956 - loss: 0.3083 - val_accuracy: 0.9064 - val_loss: 0.3412 - learning_rate: 1.0000e-04\n",
            "Epoch 18/50\n",
            "\u001b[1m37/37\u001b[0m \u001b[32m━━━━━━━━━━━━━━━━━━━━\u001b[0m\u001b[37m\u001b[0m \u001b[1m58s\u001b[0m 2s/step - accuracy: 0.9176 - loss: 0.2412 - val_accuracy: 0.9331 - val_loss: 0.2627 - learning_rate: 5.0000e-05\n",
            "Epoch 19/50\n",
            "\u001b[1m37/37\u001b[0m \u001b[32m━━━━━━━━━━━━━━━━━━━━\u001b[0m\u001b[37m\u001b[0m \u001b[1m57s\u001b[0m 2s/step - accuracy: 0.9438 - loss: 0.1873 - val_accuracy: 0.9331 - val_loss: 0.2396 - learning_rate: 5.0000e-05\n",
            "Epoch 20/50\n",
            "\u001b[1m37/37\u001b[0m \u001b[32m━━━━━━━━━━━━━━━━━━━━\u001b[0m\u001b[37m\u001b[0m \u001b[1m58s\u001b[0m 2s/step - accuracy: 0.9571 - loss: 0.1447 - val_accuracy: 0.9264 - val_loss: 0.2582 - learning_rate: 5.0000e-05\n",
            "Epoch 21/50\n",
            "\u001b[1m37/37\u001b[0m \u001b[32m━━━━━━━━━━━━━━━━━━━━\u001b[0m\u001b[37m\u001b[0m \u001b[1m60s\u001b[0m 2s/step - accuracy: 0.9506 - loss: 0.1552 - val_accuracy: 0.9331 - val_loss: 0.2516 - learning_rate: 5.0000e-05\n",
            "Epoch 22/50\n",
            "\u001b[1m37/37\u001b[0m \u001b[32m━━━━━━━━━━━━━━━━━━━━\u001b[0m\u001b[37m\u001b[0m \u001b[1m60s\u001b[0m 2s/step - accuracy: 0.9520 - loss: 0.1517 - val_accuracy: 0.9331 - val_loss: 0.2133 - learning_rate: 5.0000e-05\n",
            "Epoch 23/50\n",
            "\u001b[1m37/37\u001b[0m \u001b[32m━━━━━━━━━━━━━━━━━━━━\u001b[0m\u001b[37m\u001b[0m \u001b[1m59s\u001b[0m 2s/step - accuracy: 0.9553 - loss: 0.1235 - val_accuracy: 0.9231 - val_loss: 0.2476 - learning_rate: 5.0000e-05\n",
            "Epoch 24/50\n",
            "\u001b[1m37/37\u001b[0m \u001b[32m━━━━━━━━━━━━━━━━━━━━\u001b[0m\u001b[37m\u001b[0m \u001b[1m58s\u001b[0m 2s/step - accuracy: 0.9399 - loss: 0.1552 - val_accuracy: 0.9197 - val_loss: 0.3589 - learning_rate: 5.0000e-05\n",
            "Epoch 25/50\n",
            "\u001b[1m37/37\u001b[0m \u001b[32m━━━━━━━━━━━━━━━━━━━━\u001b[0m\u001b[37m\u001b[0m \u001b[1m0s\u001b[0m 1s/step - accuracy: 0.9504 - loss: 0.1416\n",
            "Epoch 25: ReduceLROnPlateau reducing learning rate to 2.499999936844688e-05.\n",
            "\u001b[1m37/37\u001b[0m \u001b[32m━━━━━━━━━━━━━━━━━━━━\u001b[0m\u001b[37m\u001b[0m \u001b[1m59s\u001b[0m 2s/step - accuracy: 0.9504 - loss: 0.1417 - val_accuracy: 0.9465 - val_loss: 0.2281 - learning_rate: 5.0000e-05\n",
            "Epoch 26/50\n",
            "\u001b[1m37/37\u001b[0m \u001b[32m━━━━━━━━━━━━━━━━━━━━\u001b[0m\u001b[37m\u001b[0m \u001b[1m59s\u001b[0m 2s/step - accuracy: 0.9586 - loss: 0.1185 - val_accuracy: 0.9331 - val_loss: 0.2483 - learning_rate: 2.5000e-05\n",
            "Epoch 27/50\n",
            "\u001b[1m37/37\u001b[0m \u001b[32m━━━━━━━━━━━━━━━━━━━━\u001b[0m\u001b[37m\u001b[0m \u001b[1m61s\u001b[0m 2s/step - accuracy: 0.9626 - loss: 0.1114 - val_accuracy: 0.9431 - val_loss: 0.2100 - learning_rate: 2.5000e-05\n",
            "Epoch 28/50\n",
            "\u001b[1m37/37\u001b[0m \u001b[32m━━━━━━━━━━━━━━━━━━━━\u001b[0m\u001b[37m\u001b[0m \u001b[1m59s\u001b[0m 2s/step - accuracy: 0.9660 - loss: 0.1057 - val_accuracy: 0.9264 - val_loss: 0.2994 - learning_rate: 2.5000e-05\n",
            "Epoch 29/50\n",
            "\u001b[1m37/37\u001b[0m \u001b[32m━━━━━━━━━━━━━━━━━━━━\u001b[0m\u001b[37m\u001b[0m \u001b[1m60s\u001b[0m 2s/step - accuracy: 0.9619 - loss: 0.1254 - val_accuracy: 0.9298 - val_loss: 0.2559 - learning_rate: 2.5000e-05\n",
            "Epoch 30/50\n",
            "\u001b[1m37/37\u001b[0m \u001b[32m━━━━━━━━━━━━━━━━━━━━\u001b[0m\u001b[37m\u001b[0m \u001b[1m0s\u001b[0m 1s/step - accuracy: 0.9649 - loss: 0.0921\n",
            "Epoch 30: ReduceLROnPlateau reducing learning rate to 1.249999968422344e-05.\n",
            "\u001b[1m37/37\u001b[0m \u001b[32m━━━━━━━━━━━━━━━━━━━━\u001b[0m\u001b[37m\u001b[0m \u001b[1m58s\u001b[0m 2s/step - accuracy: 0.9650 - loss: 0.0922 - val_accuracy: 0.9331 - val_loss: 0.2793 - learning_rate: 2.5000e-05\n",
            "Epoch 31/50\n",
            "\u001b[1m37/37\u001b[0m \u001b[32m━━━━━━━━━━━━━━━━━━━━\u001b[0m\u001b[37m\u001b[0m \u001b[1m61s\u001b[0m 2s/step - accuracy: 0.9584 - loss: 0.1118 - val_accuracy: 0.9298 - val_loss: 0.2654 - learning_rate: 1.2500e-05\n",
            "Epoch 32/50\n",
            "\u001b[1m37/37\u001b[0m \u001b[32m━━━━━━━━━━━━━━━━━━━━\u001b[0m\u001b[37m\u001b[0m \u001b[1m57s\u001b[0m 2s/step - accuracy: 0.9732 - loss: 0.0822 - val_accuracy: 0.9365 - val_loss: 0.2801 - learning_rate: 1.2500e-05\n"
          ]
        }
      ]
    },
    {
      "cell_type": "code",
      "source": [
        "import matplotlib.pyplot as plt\n",
        "\n",
        "# Assuming you have the 'history' object from model training\n",
        "history_dict = history.history\n",
        "acc = history_dict['accuracy']\n",
        "val_acc = history_dict['val_accuracy']\n",
        "loss = history_dict['loss']\n",
        "val_loss = history_dict['val_loss']\n",
        "\n",
        "epochs = range(1, len(acc) + 1)\n",
        "\n",
        "# Plot training & validation accuracy\n",
        "plt.figure(figsize=(12, 6))\n",
        "plt.subplot(1, 2, 1)\n",
        "plt.plot(epochs, acc, 'bo-', label='Training accuracy')\n",
        "plt.plot(epochs, val_acc, 'b-', label='Validation accuracy')\n",
        "plt.title('Training and Validation Accuracy')\n",
        "plt.xlabel('Epochs')\n",
        "plt.ylabel('Accuracy')\n",
        "plt.legend()\n",
        "\n",
        "# Plot training & validation loss\n",
        "plt.subplot(1, 2, 2)\n",
        "plt.plot(epochs, loss, 'ro-', label='Training loss')\n",
        "plt.plot(epochs, val_loss, 'r-', label='Validation loss')\n",
        "plt.title('Training and Validation Loss')\n",
        "plt.xlabel('Epochs')\n",
        "plt.ylabel('Loss')\n",
        "plt.legend()\n",
        "\n",
        "plt.tight_layout()\n",
        "plt.show()\n"
      ],
      "metadata": {
        "colab": {
          "base_uri": "https://localhost:8080/",
          "height": 607
        },
        "id": "52hWi7_MdTBL",
        "outputId": "37e5e9e7-0ee5-4c0b-f57f-819dace72733"
      },
      "execution_count": 38,
      "outputs": [
        {
          "output_type": "display_data",
          "data": {
            "text/plain": [
              "<Figure size 1200x600 with 2 Axes>"
            ],
            "image/png": "[encoded data removed]"
          },
          "metadata": {}
        }
      ]
    },
    {
      "cell_type": "code",
      "source": [
        "import seaborn as sns\n",
        "from sklearn.metrics import confusion_matrix\n",
        "import numpy as np\n",
        "\n",
        "# Predict the labels on the test dataset\n",
        "y_pred = model.predict(test_ds)\n",
        "y_pred_classes = np.argmax(y_pred, axis=1)\n",
        "\n",
        "# Get the true labels from the test dataset\n",
        "y_true = test_ds.classes\n",
        "\n",
        "# Generate confusion matrix\n",
        "cm = confusion_matrix(y_true, y_pred_classes)\n",
        "\n",
        "# Plot confusion matrix as heatmap\n",
        "plt.figure(figsize=(8, 6))\n",
        "sns.heatmap(cm, annot=True, fmt='d', cmap='Blues', xticklabels=test_ds.class_indices, yticklabels=test_ds.class_indices)\n",
        "plt.title('Confusion Matrix')\n",
        "plt.xlabel('Predicted Labels')\n",
        "plt.ylabel('True Labels')\n",
        "plt.show()\n"
      ],
      "metadata": {
        "colab": {
          "base_uri": "https://localhost:8080/",
          "height": 670
        },
        "id": "ojojHBOroE0e",
        "outputId": "5858dabe-7593-43b8-eae2-c802a2897f92"
      },
      "execution_count": 39,
      "outputs": [
        {
          "output_type": "stream",
          "name": "stdout",
          "text": [
            "\u001b[1m15/15\u001b[0m \u001b[32m━━━━━━━━━━━━━━━━━━━━\u001b[0m\u001b[37m\u001b[0m \u001b[1m10s\u001b[0m 525ms/step\n"
          ]
        },
        {
          "output_type": "display_data",
          "data": {
            "text/plain": [
              "<Figure size 800x600 with 2 Axes>"
            ],
            "image/png": "[encoded data removed]"
          },
          "metadata": {}
        }
      ]
    },
    {
      "cell_type": "code",
      "source": [
        "# Saving the model\n",
        "model.save('C:\\Medicinal_Plant/KARTHIK_model.h5')"
      ],
      "metadata": {
        "colab": {
          "base_uri": "https://localhost:8080/"
        },
        "id": "MUq7ZJNSoMIy",
        "outputId": "a0781149-6ae4-4d1e-c3f7-a69e4c366e97"
      },
      "execution_count": 41,
      "outputs": [
        {
          "output_type": "stream",
          "name": "stderr",
          "text": [
            "WARNING:absl:You are saving your model as an HDF5 file via `model.save()` or `keras.saving.save_model(model)`. This file format is considered legacy. We recommend using instead the native Keras format, e.g. `model.save('my_model.keras')` or `keras.saving.save_model(model, 'my_model.keras')`. \n"
          ]
        }
      ]
    },
    {
      "cell_type": "code",
      "source": [
        "from google.colab import drive\n",
        "import os\n",
        "\n",
        "# Mount Google Drive\n",
        "drive.mount('/content/drive')\n",
        "\n",
        "# Create a directory in Google Drive if it doesn't exist\n",
        "model_save_path = '/content/drive/MyDrive/saved_models'\n",
        "os.makedirs(model_save_path, exist_ok=True)\n",
        "\n",
        "# Save the model to Google Drive\n",
        "model.save(os.path.join(model_save_path, 'my_model.h5'))\n",
        "\n",
        "print(f'Model saved to {os.path.join(model_save_path, \"my_model.h5\")}')\n"
      ],
      "metadata": {
        "colab": {
          "base_uri": "https://localhost:8080/"
        },
        "id": "uLEibSXryUSj",
        "outputId": "7be17c72-ff69-4a34-87ac-8237ac798f04"
      },
      "execution_count": 42,
      "outputs": [
        {
          "output_type": "stream",
          "name": "stderr",
          "text": [
            "WARNING:absl:You are saving your model as an HDF5 file via `model.save()` or `keras.saving.save_model(model)`. This file format is considered legacy. We recommend using instead the native Keras format, e.g. `model.save('my_model.keras')` or `keras.saving.save_model(model, 'my_model.keras')`. \n"
          ]
        },
        {
          "output_type": "stream",
          "name": "stdout",
          "text": [
            "Drive already mounted at /content/drive; to attempt to forcibly remount, call drive.mount(\"/content/drive\", force_remount=True).\n",
            "Model saved to /content/drive/MyDrive/saved_models/my_model.h5\n"
          ]
        }
      ]
    },
    {
      "cell_type": "code",
      "source": [
        "model.save('/content/my_model.h5')  # Saves it in Colab's temporary local storage"
      ],
      "metadata": {
        "colab": {
          "base_uri": "https://localhost:8080/"
        },
        "id": "UK1Mt84Cyv8w",
        "outputId": "8c994c41-76c9-4981-b1b0-09b37578d038"
      },
      "execution_count": 44,
      "outputs": [
        {
          "output_type": "stream",
          "name": "stderr",
          "text": [
            "WARNING:absl:You are saving your model as an HDF5 file via `model.save()` or `keras.saving.save_model(model)`. This file format is considered legacy. We recommend using instead the native Keras format, e.g. `model.save('my_model.keras')` or `keras.saving.save_model(model, 'my_model.keras')`. \n"
          ]
        }
      ]
    },
    {
      "cell_type": "code",
      "source": [
        "from google.colab import files\n",
        "files.download('/content/my_model.h5')"
      ],
      "metadata": {
        "colab": {
          "base_uri": "https://localhost:8080/",
          "height": 17
        },
        "id": "xp5goED9zrCr",
        "outputId": "f274bfbd-a533-4be1-b9f5-0fdcf8af82c0"
      },
      "execution_count": 45,
      "outputs": [
        {
          "output_type": "display_data",
          "data": {
            "text/plain": [
              "<IPython.core.display.Javascript object>"
            ],
            "application/javascript": [
              "\n",
              "    async function download(id, filename, size) {\n",
              "      if (!google.colab.kernel.accessAllowed) {\n",
              "        return;\n",
              "      }\n",
              "      const div = document.createElement('div');\n",
              "      const label = document.createElement('label');\n",
              "      label.textContent = `Downloading \"${filename}\": `;\n",
              "      div.appendChild(label);\n",
              "      const progress = document.createElement('progress');\n",
              "      progress.max = size;\n",
              "      div.appendChild(progress);\n",
              "      document.body.appendChild(div);\n",
              "\n",
              "      const buffers = [];\n",
              "      let downloaded = 0;\n",
              "\n",
              "      const channel = await google.colab.kernel.comms.open(id);\n",
              "      // Send a message to notify the kernel that we're ready.\n",
              "      channel.send({})\n",
              "\n",
              "      for await (const message of channel.messages) {\n",
              "        // Send a message to notify the kernel that we're ready.\n",
              "        channel.send({})\n",
              "        if (message.buffers) {\n",
              "          for (const buffer of message.buffers) {\n",
              "            buffers.push(buffer);\n",
              "            downloaded += buffer.byteLength;\n",
              "            progress.value = downloaded;\n",
              "          }\n",
              "        }\n",
              "      }\n",
              "      const blob = new Blob(buffers, {type: 'application/binary'});\n",
              "      const a = document.createElement('a');\n",
              "      a.href = window.URL.createObjectURL(blob);\n",
              "      a.download = filename;\n",
              "      div.appendChild(a);\n",
              "      a.click();\n",
              "      div.remove();\n",
              "    }\n",
              "  "
            ]
          },
          "metadata": {}
        },
        {
          "output_type": "display_data",
          "data": {
            "text/plain": [
              "<IPython.core.display.Javascript object>"
            ],
            "application/javascript": [
              "download(\"download_0bc7bc5c-79d1-44f5-8c1c-35e3f1aa1f51\", \"my_model.h5\", 120344888)"
            ]
          },
          "metadata": {}
        }
      ]
    },
    {
      "cell_type": "code",
      "source": [],
      "metadata": {
        "id": "1M0BJsFzz7G7"
      },
      "execution_count": null,
      "outputs": []
    }
  ]
}